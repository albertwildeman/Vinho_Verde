{
 "cells": [
  {
   "cell_type": "markdown",
   "metadata": {},
   "source": [
    "# Wine quality\n",
    "[...]\n",
    "Author: Albert Wildeman"
   ]
  },
  {
   "cell_type": "markdown",
   "metadata": {},
   "source": [
    "CHECKS\n",
    "- do not load unnecessary libraries"
   ]
  },
  {
   "cell_type": "markdown",
   "metadata": {},
   "source": [
    "#JOIN DATASETS OR NOT? talk:\n",
    "- A. all together, extra binary variable for red/white\n",
    "- B. all separate (because requirements different for each - valid to try this first and see how similar models are)\n",
    "- C. Bayesian hierarchical. Just 2 types is not much; would make more sense with say 4+"
   ]
  },
  {
   "cell_type": "code",
   "execution_count": 21,
   "metadata": {
    "collapsed": false
   },
   "outputs": [],
   "source": [
    "# Load libraries\n",
    "import numpy as np\n",
    "import pandas as pd\n",
    "import scipy.stats as st\n",
    "import copy\n",
    "\n",
    "# SKLearn\n",
    "from sklearn import preprocessing, svm, metrics\n",
    "from sklearn.model_selection import cross_val_predict, GridSearchCV\n",
    "from sklearn.feature_selection import RFECV\n",
    "\n",
    "# Graphics\n",
    "import matplotlib.pyplot as plt\n",
    "%matplotlib inline\n",
    "\n",
    "# Set random seed for reproducibility\n",
    "np.random.seed(0)"
   ]
  },
  {
   "cell_type": "markdown",
   "metadata": {},
   "source": [
    "# Load data"
   ]
  },
  {
   "cell_type": "code",
   "execution_count": 2,
   "metadata": {
    "collapsed": false
   },
   "outputs": [],
   "source": [
    "clrs  = ['red', 'white']\n",
    "n_clrs = len(clrs)\n",
    "dfs = [ pd.read_csv(\"data/winequality-\" + clr + \".csv\", sep = ';') for clr in clrs]"
   ]
  },
  {
   "cell_type": "code",
   "execution_count": 3,
   "metadata": {
    "collapsed": false
   },
   "outputs": [
    {
     "data": {
      "text/plain": [
       "True"
      ]
     },
     "execution_count": 3,
     "metadata": {},
     "output_type": "execute_result"
    }
   ],
   "source": [
    "# See if the columns are identical for red and white wine\n",
    "dfs[0].columns.identical(dfs[1].columns)"
   ]
  },
  {
   "cell_type": "code",
   "execution_count": 4,
   "metadata": {
    "collapsed": false
   },
   "outputs": [],
   "source": [
    "# Generate list of features\n",
    "feats = dfs[0].drop('quality', axis=1).columns.values\n",
    "# Get number of features &  (for each color) observations\n",
    "n_feats = len(feats)"
   ]
  },
  {
   "cell_type": "code",
   "execution_count": 5,
   "metadata": {
    "collapsed": false
   },
   "outputs": [
    {
     "name": "stdout",
     "output_type": "stream",
     "text": [
      "Missing values in red wine data: 0\n",
      "Missing values in white wine data: 0\n"
     ]
    }
   ],
   "source": [
    "# Determine how many missing values there are\n",
    "for i_clr, clr in enumerate(clrs):\n",
    "    print('Missing values in ' + clr + ' wine data: ' + str(dfs[i_clr].isnull().sum().sum()))"
   ]
  },
  {
   "cell_type": "code",
   "execution_count": 6,
   "metadata": {
    "collapsed": true
   },
   "outputs": [],
   "source": [
    "# None! great news."
   ]
  },
  {
   "cell_type": "code",
   "execution_count": 7,
   "metadata": {
    "collapsed": true
   },
   "outputs": [],
   "source": [
    "# plotting colors for red, white wine\n",
    "plot_colors = [(0.65, 0, 0.10), (0.93, 0.96, 0.88)]"
   ]
  },
  {
   "cell_type": "markdown",
   "metadata": {},
   "source": [
    "# Distribution of quality ratings and features"
   ]
  },
  {
   "cell_type": "code",
   "execution_count": 8,
   "metadata": {
    "collapsed": false
   },
   "outputs": [
    {
     "data": {
      "image/png": "[encoded data removed]",
      "text/plain": [
       "<matplotlib.figure.Figure at 0xcc10f1a0f0>"
      ]
     },
     "metadata": {},
     "output_type": "display_data"
    }
   ],
   "source": [
    "fig = plt.figure(figsize=(5,3))\n",
    "ax = fig.gca()\n",
    "arr = ax.hist([df.quality.values for df in dfs], np.arange(2.5, 10.5), histtype='bar', color=plot_colors, label=clrs)\n",
    "ax.legend(prop={'size': 10})\n",
    "plt.title('quaLL')\n",
    "st = plt.suptitle('Distribution of each property', size='15')\n",
    "st.set_y(1.05) # place above subplots\n",
    "plt.tight_layout();"
   ]
  },
  {
   "cell_type": "code",
   "execution_count": 9,
   "metadata": {
    "collapsed": false
   },
   "outputs": [],
   "source": [
    "def plot_histograms(dfs):\n",
    "    fig = plt.figure(figsize=(15,5))\n",
    "    for i_feat, feat in enumerate(feats):\n",
    "\n",
    "        ax = plt.subplot2grid((3,4),divmod(i_feat,4))\n",
    "        ax.hist([df[feat].values for df in dfs], 12, normed=1, histtype='bar', color=plot_colors, label=clrs)\n",
    "        \n",
    "        plt.tick_params(axis='both', which='both', bottom='off', top='off', left='off', right='off', labelleft='off')\n",
    "        plt.title(feat)\n",
    "        \n",
    "    ax = plt.subplot2grid((3,4),(2,3))\n",
    "    ax.hist([[0],[0]], color=plot_colors, label=clrs)\n",
    "    ax.set_ylim(-2,-1)\n",
    "    ax.axis('off')\n",
    "    ax.legend(prop={'size': 10})\n",
    "    st = plt.suptitle('Distribution of each property', size='15')\n",
    "    st.set_y(1.05) # place above subplots\n",
    "    plt.tight_layout();"
   ]
  },
  {
   "cell_type": "code",
   "execution_count": 10,
   "metadata": {
    "collapsed": false
   },
   "outputs": [
    {
     "data": {
      "image/png": "[encoded data removed]",
      "text/plain": [
       "<matplotlib.figure.Figure at 0xcc1136be10>"
      ]
     },
     "metadata": {},
     "output_type": "display_data"
    }
   ],
   "source": [
    "plot_histograms(dfs)"
   ]
  },
  {
   "cell_type": "markdown",
   "metadata": {},
   "source": [
    "# Log scaling\n",
    "Inspect distributions of all variables."
   ]
  },
  {
   "cell_type": "code",
   "execution_count": 11,
   "metadata": {
    "collapsed": false
   },
   "outputs": [],
   "source": [
    "# Set features to log-transform\n",
    "skewed_feats = ['fixed acidity', 'volatile acidity', 'citric acid', 'residual sugar', 'chlorides', \n",
    "                'free sulfur dioxide', 'total sulfur dioxide', 'sulphates', 'alcohol']\n",
    "# log transform\n",
    "for df in dfs:\n",
    "    df[skewed_feats] = np.log1p(df[skewed_feats])"
   ]
  },
  {
   "cell_type": "code",
   "execution_count": 12,
   "metadata": {
    "collapsed": false
   },
   "outputs": [
    {
     "data": {
      "image/png": "[encoded data removed]",
      "text/plain": [
       "<matplotlib.figure.Figure at 0xcc11885240>"
      ]
     },
     "metadata": {},
     "output_type": "display_data"
    }
   ],
   "source": [
    "plot_histograms(dfs)"
   ]
  },
  {
   "cell_type": "markdown",
   "metadata": {},
   "source": [
    "## Outliers"
   ]
  },
  {
   "cell_type": "code",
   "execution_count": 13,
   "metadata": {
    "collapsed": false
   },
   "outputs": [
    {
     "name": "stdout",
     "output_type": "stream",
     "text": [
      "5 largest values for chlorides (red):  [ 0.35206433  0.38117242  0.3832195   0.47623418  0.4768551 ]\n",
      "5 largest values for chlorides (white):  [ 0.22713557  0.23980399  0.25464222  0.2631332   0.29713723]\n",
      "5 largest values for density (red):  [ 1.00315  1.00315  1.0032   1.00369  1.00369]\n",
      "5 largest values for density (white):  [ 1.00295  1.00295  1.0103   1.0103   1.03898]\n"
     ]
    }
   ],
   "source": [
    "# Candidates for outliers:\n",
    "inspect = ['chlorides','density']\n",
    "for feat in inspect:\n",
    "    for i_clr in range(n_clrs):\n",
    "        print('5 largest values for ' + feat + ' (' + clrs[i_clr] + '): ', np.sort(dfs[i_clr][feat].values)[-5:])"
   ]
  },
  {
   "cell_type": "markdown",
   "metadata": {},
   "source": [
    "Of these, the white wine with the largest value for density is the most concerning. Inspect the quality of this wine:"
   ]
  },
  {
   "cell_type": "code",
   "execution_count": 14,
   "metadata": {
    "collapsed": false
   },
   "outputs": [
    {
     "name": "stdout",
     "output_type": "stream",
     "text": [
      "Quality of candidate for deletion:  6\n"
     ]
    }
   ],
   "source": [
    "print('Quality of candidate for deletion: ', dfs[1].loc[np.where(dfs[1].density==1.03898)[0],'quality'].values[0])    "
   ]
  },
  {
   "cell_type": "markdown",
   "metadata": {},
   "source": [
    "This is neither poor nor excellent, and therefore not a particularly valuable datapoint. Delete:"
   ]
  },
  {
   "cell_type": "code",
   "execution_count": 15,
   "metadata": {
    "collapsed": false
   },
   "outputs": [],
   "source": [
    "dfs[1] = dfs[1].loc[np.where(dfs[1].density!=1.03898)[0],:]"
   ]
  },
  {
   "cell_type": "markdown",
   "metadata": {},
   "source": [
    "## Normalization: mean-centering and variance scaling\n",
    "One of the benefits of normalization is that it allows regularized linear models such as Lasso or Ridge Regression to penalize the various feautures evenly."
   ]
  },
  {
   "cell_type": "code",
   "execution_count": 16,
   "metadata": {
    "collapsed": false
   },
   "outputs": [],
   "source": [
    "X = [preprocessing.StandardScaler().fit_transform(dfs[i_clr][feats]) for i_clr in range(n_clrs)]"
   ]
  },
  {
   "cell_type": "markdown",
   "metadata": {},
   "source": [
    "# Prep data for ML\n",
    "Split into training (2/3) and test (1/3) sets, and create feature matrices and target vectors as separate entities."
   ]
  },
  {
   "cell_type": "code",
   "execution_count": 17,
   "metadata": {
    "collapsed": false
   },
   "outputs": [],
   "source": [
    "# target vector. poor (<5), excellent (>7)\n",
    "y_multiclass = [df.quality.values for df in dfs]\n",
    "y = [[(yy>7)*1 for yy in y_multiclass], \n",
    "     [(yy<5)*1 for yy in y_multiclass],]\n",
    "\n",
    "criteria = ['excellent', 'poor']\n",
    "n_criteria = len(criteria)"
   ]
  },
  {
   "cell_type": "markdown",
   "metadata": {},
   "source": [
    "# Machine Learning"
   ]
  },
  {
   "cell_type": "code",
   "execution_count": 162,
   "metadata": {
    "collapsed": false
   },
   "outputs": [
    {
     "name": "stdout",
     "output_type": "stream",
     "text": [
      "[[1302  279]\n",
      " [   0   18]]\n",
      "1.0\n",
      "0.0606060606061\n",
      "[[3140 1577]\n",
      " [  43  137]]\n",
      "0.761111111111\n",
      "0.0799299883314\n",
      "[[1130  406]\n",
      " [  22   41]]\n",
      "0.650793650794\n",
      "0.0917225950783\n",
      "[[3841  873]\n",
      " [  56  127]]\n",
      "0.693989071038\n",
      "0.127\n"
     ]
    }
   ],
   "source": [
    "# Set up possible values of parameters to optimize over\n",
    "p_grid = {\"C\": [.1, 1, 10],\n",
    "          \"gamma\": [.01, .05, .1]}\n",
    "\n",
    "# We will use a Support Vector Classifier with \"rbf\" kernel\n",
    "svc = svm.SVC(kernel=\"linear\", class_weight='balanced')\n",
    "\n",
    "conf_matrices = [[None]*n_clrs]*n_criteria\n",
    "feat_sel = pd.DataFrame(columns = feats, dtype=bool)\n",
    "performance = pd.DataFrame(columns = ['recall', 'precision'])\n",
    "\n",
    "for i_crit in range(n_criteria):\n",
    "    for i_clr in range(n_clrs):\n",
    "        \n",
    "        selector = RFECV(estimator=svc,  scoring = 'recall')\n",
    "        selector.fit(X[i_clr], y[i_crit][i_clr])\n",
    "        feat_sel.loc[criteria[i_crit] + ' ' + clrs[i_clr], :] = selector.support_\n",
    "        \n",
    "        clf = GridSearchCV(estimator=svc, param_grid=p_grid, cv=3, scoring = 'recall')\n",
    "        # Nested CV with parameter optimization\n",
    "        predicted = cross_val_predict(clf, X[i_clr][:,selector.support_], y[i_crit][i_clr], cv=4)\n",
    "#        print(metrics.confusion_matrix(y[i_crit][i_clr], predicted))\n",
    "#        print(metrics.recall_score(y[i_crit][i_clr], predicted))\n",
    "#        print(metrics.precision_score(y[i_crit][i_clr], predicted))\n",
    "        \n",
    "        performance.loc[criteria[i_crit] + ' ' + clrs[i_clr], :] = [metrics.recall_score(y[i_crit][i_clr], predicted),\n",
    "                                                                    metrics.precision_score(y[i_crit][i_clr], predicted)]\n",
    "        \n",
    "feat_sel['selected features'] = (feat_sel*1).sum(axis=1) #Append column to show number of features used\n",
    "feat_sel.loc['times incl.',:] = (feat_sel*1).sum(); feat_sel.ix['times incl.', 'selected features'] = ''\n",
    "performance = performance.applymap(lambda x: str(int(round(x*100)))+'%')"
   ]
  },
  {
   "cell_type": "code",
   "execution_count": 163,
   "metadata": {
    "collapsed": false
   },
   "outputs": [
    {
     "data": {
      "text/html": [
       "<div>\n",
       "<table border=\"1\" class=\"dataframe\">\n",
       "  <thead>\n",
       "    <tr style=\"text-align: right;\">\n",
       "      <th></th>\n",
       "      <th>recall</th>\n",
       "      <th>precision</th>\n",
       "    </tr>\n",
       "  </thead>\n",
       "  <tbody>\n",
       "    <tr>\n",
       "      <th>excellent red</th>\n",
       "      <td>100%</td>\n",
       "      <td>6%</td>\n",
       "    </tr>\n",
       "    <tr>\n",
       "      <th>excellent white</th>\n",
       "      <td>76%</td>\n",
       "      <td>8%</td>\n",
       "    </tr>\n",
       "    <tr>\n",
       "      <th>poor red</th>\n",
       "      <td>65%</td>\n",
       "      <td>9%</td>\n",
       "    </tr>\n",
       "    <tr>\n",
       "      <th>poor white</th>\n",
       "      <td>69%</td>\n",
       "      <td>13%</td>\n",
       "    </tr>\n",
       "  </tbody>\n",
       "</table>\n",
       "</div>"
      ],
      "text/plain": [
       "                recall precision\n",
       "excellent red     100%        6%\n",
       "excellent white    76%        8%\n",
       "poor red           65%        9%\n",
       "poor white         69%       13%"
      ]
     },
     "execution_count": 163,
     "metadata": {},
     "output_type": "execute_result"
    }
   ],
   "source": [
    "performance"
   ]
  },
  {
   "cell_type": "code",
   "execution_count": 164,
   "metadata": {
    "collapsed": false
   },
   "outputs": [
    {
     "data": {
      "text/html": [
       "<div>\n",
       "<table border=\"1\" class=\"dataframe\">\n",
       "  <thead>\n",
       "    <tr style=\"text-align: right;\">\n",
       "      <th></th>\n",
       "      <th>fixed acidity</th>\n",
       "      <th>volatile acidity</th>\n",
       "      <th>citric acid</th>\n",
       "      <th>residual sugar</th>\n",
       "      <th>chlorides</th>\n",
       "      <th>free sulfur dioxide</th>\n",
       "      <th>total sulfur dioxide</th>\n",
       "      <th>density</th>\n",
       "      <th>pH</th>\n",
       "      <th>sulphates</th>\n",
       "      <th>alcohol</th>\n",
       "      <th>selected features</th>\n",
       "    </tr>\n",
       "  </thead>\n",
       "  <tbody>\n",
       "    <tr>\n",
       "      <th>excellent red</th>\n",
       "      <td>False</td>\n",
       "      <td>False</td>\n",
       "      <td>False</td>\n",
       "      <td>False</td>\n",
       "      <td>True</td>\n",
       "      <td>False</td>\n",
       "      <td>True</td>\n",
       "      <td>True</td>\n",
       "      <td>True</td>\n",
       "      <td>True</td>\n",
       "      <td>True</td>\n",
       "      <td>6</td>\n",
       "    </tr>\n",
       "    <tr>\n",
       "      <th>excellent white</th>\n",
       "      <td>False</td>\n",
       "      <td>False</td>\n",
       "      <td>False</td>\n",
       "      <td>False</td>\n",
       "      <td>False</td>\n",
       "      <td>False</td>\n",
       "      <td>False</td>\n",
       "      <td>False</td>\n",
       "      <td>False</td>\n",
       "      <td>False</td>\n",
       "      <td>True</td>\n",
       "      <td>1</td>\n",
       "    </tr>\n",
       "    <tr>\n",
       "      <th>poor red</th>\n",
       "      <td>True</td>\n",
       "      <td>True</td>\n",
       "      <td>True</td>\n",
       "      <td>True</td>\n",
       "      <td>True</td>\n",
       "      <td>True</td>\n",
       "      <td>True</td>\n",
       "      <td>True</td>\n",
       "      <td>True</td>\n",
       "      <td>False</td>\n",
       "      <td>True</td>\n",
       "      <td>10</td>\n",
       "    </tr>\n",
       "    <tr>\n",
       "      <th>poor white</th>\n",
       "      <td>False</td>\n",
       "      <td>True</td>\n",
       "      <td>False</td>\n",
       "      <td>True</td>\n",
       "      <td>False</td>\n",
       "      <td>True</td>\n",
       "      <td>False</td>\n",
       "      <td>True</td>\n",
       "      <td>False</td>\n",
       "      <td>False</td>\n",
       "      <td>False</td>\n",
       "      <td>4</td>\n",
       "    </tr>\n",
       "    <tr>\n",
       "      <th>times incl.</th>\n",
       "      <td>1</td>\n",
       "      <td>2</td>\n",
       "      <td>1</td>\n",
       "      <td>2</td>\n",
       "      <td>2</td>\n",
       "      <td>2</td>\n",
       "      <td>2</td>\n",
       "      <td>3</td>\n",
       "      <td>2</td>\n",
       "      <td>1</td>\n",
       "      <td>3</td>\n",
       "      <td></td>\n",
       "    </tr>\n",
       "  </tbody>\n",
       "</table>\n",
       "</div>"
      ],
      "text/plain": [
       "                fixed acidity volatile acidity citric acid residual sugar  \\\n",
       "excellent red           False            False       False          False   \n",
       "excellent white         False            False       False          False   \n",
       "poor red                 True             True        True           True   \n",
       "poor white              False             True       False           True   \n",
       "times incl.                 1                2           1              2   \n",
       "\n",
       "                chlorides free sulfur dioxide total sulfur dioxide density  \\\n",
       "excellent red        True               False                 True    True   \n",
       "excellent white     False               False                False   False   \n",
       "poor red             True                True                 True    True   \n",
       "poor white          False                True                False    True   \n",
       "times incl.             2                   2                    2       3   \n",
       "\n",
       "                    pH sulphates alcohol selected features  \n",
       "excellent red     True      True    True                 6  \n",
       "excellent white  False     False    True                 1  \n",
       "poor red          True     False    True                10  \n",
       "poor white       False     False   False                 4  \n",
       "times incl.          2         1       3                    "
      ]
     },
     "execution_count": 164,
     "metadata": {},
     "output_type": "execute_result"
    }
   ],
   "source": [
    "feat_sel"
   ]
  },
  {
   "cell_type": "markdown",
   "metadata": {},
   "source": [
    "# Clustering"
   ]
  },
  {
   "cell_type": "markdown",
   "metadata": {},
   "source": [
    "\n",
    "# Do Dendrogram, big gap.\n"
   ]
  },
  {
   "cell_type": "code",
   "execution_count": 19,
   "metadata": {
    "collapsed": true
   },
   "outputs": [],
   "source": [
    "# do scaling like before, but now include quality\n",
    "X_cl = [preprocessing.StandardScaler().fit_transform(dfs[i_clr]) for i_clr in range(n_clrs)]"
   ]
  },
  {
   "cell_type": "code",
   "execution_count": 20,
   "metadata": {
    "collapsed": false
   },
   "outputs": [
    {
     "data": {
      "image/png": "[encoded data removed]",
      "text/plain": [
       "<matplotlib.figure.Figure at 0xcc119d1f98>"
      ]
     },
     "metadata": {},
     "output_type": "display_data"
    }
   ],
   "source": [
    "from scipy.cluster.hierarchy import dendrogram, linkage\n",
    "fig = plt.figure(figsize=(15,4))\n",
    "for i_clr in range(n_clrs):\n",
    "    Z = linkage(X_cl[i_clr], 'ward')\n",
    "    ax = plt.subplot2grid((1,2),(0,i_clr))\n",
    "    # calculate full dendrogram\n",
    "    plt.title('Clustering in ' + clrs[i_clr] + ' wine')\n",
    "    plt.xlabel('samples')\n",
    "    plt.ylabel('distance')\n",
    "    dendrogram(Z, leaf_label_func= lambda x : '')"
   ]
  }
 ],
 "metadata": {
  "kernelspec": {
   "display_name": "Python 3",
   "language": "python",
   "name": "python3"
  },
  "language_info": {
   "codemirror_mode": {
    "name": "ipython",
    "version": 3
   },
   "file_extension": ".py",
   "mimetype": "text/x-python",
   "name": "python",
   "nbconvert_exporter": "python",
   "pygments_lexer": "ipython3",
   "version": "3.5.2"
  }
 },
 "nbformat": 4,
 "nbformat_minor": 0
}
